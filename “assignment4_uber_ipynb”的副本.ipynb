{
  "cells": [
    {
      "cell_type": "markdown",
      "metadata": {
        "id": "view-in-github",
        "colab_type": "text"
      },
      "source": [
        "<a href=\"https://colab.research.google.com/github/Nanaue9/BA820/blob/main/%E2%80%9Cassignment4_uber_ipynb%E2%80%9D%E7%9A%84%E5%89%AF%E6%9C%AC.ipynb\" target=\"_parent\"><img src=\"https://colab.research.google.com/assets/colab-badge.svg\" alt=\"Open In Colab\"/></a>"
      ]
    },
    {
      "cell_type": "markdown",
      "metadata": {
        "id": "Brte3-W5sQ6Z"
      },
      "source": [
        "**Assignment 4**\n",
        "\n",
        "Name:Yanxu(Adam) Yang\n",
        "\n",
        "\n",
        "### 1. Read the HBS Case. What is the difference between Uber POOL and Express POOL? No more than two sentences."
      ]
    },
    {
      "cell_type": "markdown",
      "metadata": {
        "id": "hoekIoHlsQ6a"
      },
      "source": [
        "Uber carpooling works by picking up passengers heading in the same direction at designated locations and adding more passengers along the way. ExpressPOOL requires riders to wait up to two minutes for pairing time and then walk a short distance to a designated pickup point, but offers a discount of at least 20 percent for this inconvenience, which improves pairing efficiency and vehicle utilization."
      ]
    },
    {
      "cell_type": "markdown",
      "metadata": {
        "id": "dGogjKb6sQ6a"
      },
      "source": [
        "### 2. How did Uber use surveys in designing Uber Express Pool? No more than two sentences.\n"
      ]
    },
    {
      "cell_type": "markdown",
      "metadata": {
        "id": "UqyKnS8ysQ6a"
      },
      "source": [
        "Uber uses a joint survey to assess riders' willingness to wait and walk at different price points. Based on their findings, they built a calculator to predict price thresholds based on walking and waiting parameters and found that most people wouldn't wait 15 minutes, no matter how cheap it was."
      ]
    },
    {
      "cell_type": "markdown",
      "metadata": {
        "id": "oxrSIPA_sQ6a"
      },
      "source": [
        "### 3. Suppose Uber was considering a new algorithm to recommend ride destinations in the app. Which type of research strategy should they use (A/B Test, Switchback, Synthetic Control)? No more than two sentences.\n"
      ]
    },
    {
      "cell_type": "markdown",
      "metadata": {
        "id": "ziO4_UqCsQ6a"
      },
      "source": [
        "Uber should have used user-level a /B experiments, because ride destination recommendations influence individual user behavior. This approach would allow Uber to randomly assign passengers to experimental and control groups, comparing how different destination recommendations affect user choice patterns without affecting the broader market equilibrium."
      ]
    },
    {
      "cell_type": "markdown",
      "metadata": {
        "id": "fBc8w2cSsQ6a"
      },
      "source": [
        "###  4. Create two new columns in the dataset that represent the total number of trips for both pool products and the profit from these products.\n",
        "\n",
        "Note, the data is in the data folder and is called `wait_time_switchback_3.csv`\n",
        "\n"
      ]
    },
    {
      "cell_type": "code",
      "source": [
        "from google.colab import drive\n",
        "drive.mount('/content/drive')"
      ],
      "metadata": {
        "id": "0o2jO39JdBYE",
        "colab": {
          "base_uri": "https://localhost:8080/"
        },
        "outputId": "d87f36e1-92af-4c18-919f-f11d4684ec46"
      },
      "execution_count": null,
      "outputs": [
        {
          "output_type": "stream",
          "name": "stdout",
          "text": [
            "Mounted at /content/drive\n"
          ]
        }
      ]
    },
    {
      "cell_type": "code",
      "source": [
        "import pandas as pd\n",
        "\n",
        "# Load the dataset\n",
        "df = pd.read_csv('/content/drive/MyDrive/BA830/BA830 - Winter 2025/data/wait_time_switchback_3.csv')\n",
        "\n",
        "df['total_trips'] = df['trips_pool'] + df['trips_express_pool']\n",
        "df['profit'] = df['revenue'] - df['total_driver_payout_sr']\n",
        "df.head()"
      ],
      "metadata": {
        "colab": {
          "base_uri": "https://localhost:8080/",
          "height": 224
        },
        "id": "UK7cb3zXfuj7",
        "outputId": "8652d701-b5af-4e2d-9b72-984a8c72fa68"
      },
      "execution_count": null,
      "outputs": [
        {
          "output_type": "execute_result",
          "data": {
            "text/plain": [
              "  city_id   period_start wait_time  treat  commute  trips_pool  \\\n",
              "0  Boston   2/19/18 7:00    2 mins  False     True        1417   \n",
              "1  Boston   2/19/18 9:40    5 mins   True    False        1462   \n",
              "2  Boston  2/19/18 12:20    2 mins  False    False        1360   \n",
              "3  Boston  2/19/18 15:00    5 mins   True     True        1977   \n",
              "4  Boston  2/19/18 17:40    2 mins  False    False        1368   \n",
              "\n",
              "   trips_express_pool  rider_cancellations  total_driver_payout_sr  \\\n",
              "0                3252                  256             34459.41163   \n",
              "1                2364                  201             29770.34982   \n",
              "2                2189                  115             27446.36736   \n",
              "3                3580                  356             44992.45299   \n",
              "4                2575                  187             27582.95530   \n",
              "\n",
              "   total_matches_sr  total_double_matches_sr      revenue  total_trips  \\\n",
              "0              3365                     1479  46041.85585         4669   \n",
              "1              2292                     1279  32174.38133         3826   \n",
              "2              2288                      957  31042.59758         3549   \n",
              "3              4040                     2029  53747.43785         5557   \n",
              "4              2193                      975  32799.79836         3943   \n",
              "\n",
              "        profit  \n",
              "0  11582.44422  \n",
              "1   2404.03151  \n",
              "2   3596.23022  \n",
              "3   8754.98486  \n",
              "4   5216.84306  "
            ],
            "text/html": [
              "\n",
              "  <div id=\"df-2e3de531-4b1b-4dc6-9bae-458e65a1bfc0\" class=\"colab-df-container\">\n",
              "    <div>\n",
              "<style scoped>\n",
              "    .dataframe tbody tr th:only-of-type {\n",
              "        vertical-align: middle;\n",
              "    }\n",
              "\n",
              "    .dataframe tbody tr th {\n",
              "        vertical-align: top;\n",
              "    }\n",
              "\n",
              "    .dataframe thead th {\n",
              "        text-align: right;\n",
              "    }\n",
              "</style>\n",
              "<table border=\"1\" class=\"dataframe\">\n",
              "  <thead>\n",
              "    <tr style=\"text-align: right;\">\n",
              "      <th></th>\n",
              "      <th>city_id</th>\n",
              "      <th>period_start</th>\n",
              "      <th>wait_time</th>\n",
              "      <th>treat</th>\n",
              "      <th>commute</th>\n",
              "      <th>trips_pool</th>\n",
              "      <th>trips_express_pool</th>\n",
              "      <th>rider_cancellations</th>\n",
              "      <th>total_driver_payout_sr</th>\n",
              "      <th>total_matches_sr</th>\n",
              "      <th>total_double_matches_sr</th>\n",
              "      <th>revenue</th>\n",
              "      <th>total_trips</th>\n",
              "      <th>profit</th>\n",
              "    </tr>\n",
              "  </thead>\n",
              "  <tbody>\n",
              "    <tr>\n",
              "      <th>0</th>\n",
              "      <td>Boston</td>\n",
              "      <td>2/19/18 7:00</td>\n",
              "      <td>2 mins</td>\n",
              "      <td>False</td>\n",
              "      <td>True</td>\n",
              "      <td>1417</td>\n",
              "      <td>3252</td>\n",
              "      <td>256</td>\n",
              "      <td>34459.41163</td>\n",
              "      <td>3365</td>\n",
              "      <td>1479</td>\n",
              "      <td>46041.85585</td>\n",
              "      <td>4669</td>\n",
              "      <td>11582.44422</td>\n",
              "    </tr>\n",
              "    <tr>\n",
              "      <th>1</th>\n",
              "      <td>Boston</td>\n",
              "      <td>2/19/18 9:40</td>\n",
              "      <td>5 mins</td>\n",
              "      <td>True</td>\n",
              "      <td>False</td>\n",
              "      <td>1462</td>\n",
              "      <td>2364</td>\n",
              "      <td>201</td>\n",
              "      <td>29770.34982</td>\n",
              "      <td>2292</td>\n",
              "      <td>1279</td>\n",
              "      <td>32174.38133</td>\n",
              "      <td>3826</td>\n",
              "      <td>2404.03151</td>\n",
              "    </tr>\n",
              "    <tr>\n",
              "      <th>2</th>\n",
              "      <td>Boston</td>\n",
              "      <td>2/19/18 12:20</td>\n",
              "      <td>2 mins</td>\n",
              "      <td>False</td>\n",
              "      <td>False</td>\n",
              "      <td>1360</td>\n",
              "      <td>2189</td>\n",
              "      <td>115</td>\n",
              "      <td>27446.36736</td>\n",
              "      <td>2288</td>\n",
              "      <td>957</td>\n",
              "      <td>31042.59758</td>\n",
              "      <td>3549</td>\n",
              "      <td>3596.23022</td>\n",
              "    </tr>\n",
              "    <tr>\n",
              "      <th>3</th>\n",
              "      <td>Boston</td>\n",
              "      <td>2/19/18 15:00</td>\n",
              "      <td>5 mins</td>\n",
              "      <td>True</td>\n",
              "      <td>True</td>\n",
              "      <td>1977</td>\n",
              "      <td>3580</td>\n",
              "      <td>356</td>\n",
              "      <td>44992.45299</td>\n",
              "      <td>4040</td>\n",
              "      <td>2029</td>\n",
              "      <td>53747.43785</td>\n",
              "      <td>5557</td>\n",
              "      <td>8754.98486</td>\n",
              "    </tr>\n",
              "    <tr>\n",
              "      <th>4</th>\n",
              "      <td>Boston</td>\n",
              "      <td>2/19/18 17:40</td>\n",
              "      <td>2 mins</td>\n",
              "      <td>False</td>\n",
              "      <td>False</td>\n",
              "      <td>1368</td>\n",
              "      <td>2575</td>\n",
              "      <td>187</td>\n",
              "      <td>27582.95530</td>\n",
              "      <td>2193</td>\n",
              "      <td>975</td>\n",
              "      <td>32799.79836</td>\n",
              "      <td>3943</td>\n",
              "      <td>5216.84306</td>\n",
              "    </tr>\n",
              "  </tbody>\n",
              "</table>\n",
              "</div>\n",
              "    <div class=\"colab-df-buttons\">\n",
              "\n",
              "  <div class=\"colab-df-container\">\n",
              "    <button class=\"colab-df-convert\" onclick=\"convertToInteractive('df-2e3de531-4b1b-4dc6-9bae-458e65a1bfc0')\"\n",
              "            title=\"Convert this dataframe to an interactive table.\"\n",
              "            style=\"display:none;\">\n",
              "\n",
              "  <svg xmlns=\"http://www.w3.org/2000/svg\" height=\"24px\" viewBox=\"0 -960 960 960\">\n",
              "    <path d=\"M120-120v-720h720v720H120Zm60-500h600v-160H180v160Zm220 220h160v-160H400v160Zm0 220h160v-160H400v160ZM180-400h160v-160H180v160Zm440 0h160v-160H620v160ZM180-180h160v-160H180v160Zm440 0h160v-160H620v160Z\"/>\n",
              "  </svg>\n",
              "    </button>\n",
              "\n",
              "  <style>\n",
              "    .colab-df-container {\n",
              "      display:flex;\n",
              "      gap: 12px;\n",
              "    }\n",
              "\n",
              "    .colab-df-convert {\n",
              "      background-color: #E8F0FE;\n",
              "      border: none;\n",
              "      border-radius: 50%;\n",
              "      cursor: pointer;\n",
              "      display: none;\n",
              "      fill: #1967D2;\n",
              "      height: 32px;\n",
              "      padding: 0 0 0 0;\n",
              "      width: 32px;\n",
              "    }\n",
              "\n",
              "    .colab-df-convert:hover {\n",
              "      background-color: #E2EBFA;\n",
              "      box-shadow: 0px 1px 2px rgba(60, 64, 67, 0.3), 0px 1px 3px 1px rgba(60, 64, 67, 0.15);\n",
              "      fill: #174EA6;\n",
              "    }\n",
              "\n",
              "    .colab-df-buttons div {\n",
              "      margin-bottom: 4px;\n",
              "    }\n",
              "\n",
              "    [theme=dark] .colab-df-convert {\n",
              "      background-color: #3B4455;\n",
              "      fill: #D2E3FC;\n",
              "    }\n",
              "\n",
              "    [theme=dark] .colab-df-convert:hover {\n",
              "      background-color: #434B5C;\n",
              "      box-shadow: 0px 1px 3px 1px rgba(0, 0, 0, 0.15);\n",
              "      filter: drop-shadow(0px 1px 2px rgba(0, 0, 0, 0.3));\n",
              "      fill: #FFFFFF;\n",
              "    }\n",
              "  </style>\n",
              "\n",
              "    <script>\n",
              "      const buttonEl =\n",
              "        document.querySelector('#df-2e3de531-4b1b-4dc6-9bae-458e65a1bfc0 button.colab-df-convert');\n",
              "      buttonEl.style.display =\n",
              "        google.colab.kernel.accessAllowed ? 'block' : 'none';\n",
              "\n",
              "      async function convertToInteractive(key) {\n",
              "        const element = document.querySelector('#df-2e3de531-4b1b-4dc6-9bae-458e65a1bfc0');\n",
              "        const dataTable =\n",
              "          await google.colab.kernel.invokeFunction('convertToInteractive',\n",
              "                                                    [key], {});\n",
              "        if (!dataTable) return;\n",
              "\n",
              "        const docLinkHtml = 'Like what you see? Visit the ' +\n",
              "          '<a target=\"_blank\" href=https://colab.research.google.com/notebooks/data_table.ipynb>data table notebook</a>'\n",
              "          + ' to learn more about interactive tables.';\n",
              "        element.innerHTML = '';\n",
              "        dataTable['output_type'] = 'display_data';\n",
              "        await google.colab.output.renderOutput(dataTable, element);\n",
              "        const docLink = document.createElement('div');\n",
              "        docLink.innerHTML = docLinkHtml;\n",
              "        element.appendChild(docLink);\n",
              "      }\n",
              "    </script>\n",
              "  </div>\n",
              "\n",
              "\n",
              "<div id=\"df-ba9cd417-3a2b-49e7-a8ba-2698c94a2afa\">\n",
              "  <button class=\"colab-df-quickchart\" onclick=\"quickchart('df-ba9cd417-3a2b-49e7-a8ba-2698c94a2afa')\"\n",
              "            title=\"Suggest charts\"\n",
              "            style=\"display:none;\">\n",
              "\n",
              "<svg xmlns=\"http://www.w3.org/2000/svg\" height=\"24px\"viewBox=\"0 0 24 24\"\n",
              "     width=\"24px\">\n",
              "    <g>\n",
              "        <path d=\"M19 3H5c-1.1 0-2 .9-2 2v14c0 1.1.9 2 2 2h14c1.1 0 2-.9 2-2V5c0-1.1-.9-2-2-2zM9 17H7v-7h2v7zm4 0h-2V7h2v10zm4 0h-2v-4h2v4z\"/>\n",
              "    </g>\n",
              "</svg>\n",
              "  </button>\n",
              "\n",
              "<style>\n",
              "  .colab-df-quickchart {\n",
              "      --bg-color: #E8F0FE;\n",
              "      --fill-color: #1967D2;\n",
              "      --hover-bg-color: #E2EBFA;\n",
              "      --hover-fill-color: #174EA6;\n",
              "      --disabled-fill-color: #AAA;\n",
              "      --disabled-bg-color: #DDD;\n",
              "  }\n",
              "\n",
              "  [theme=dark] .colab-df-quickchart {\n",
              "      --bg-color: #3B4455;\n",
              "      --fill-color: #D2E3FC;\n",
              "      --hover-bg-color: #434B5C;\n",
              "      --hover-fill-color: #FFFFFF;\n",
              "      --disabled-bg-color: #3B4455;\n",
              "      --disabled-fill-color: #666;\n",
              "  }\n",
              "\n",
              "  .colab-df-quickchart {\n",
              "    background-color: var(--bg-color);\n",
              "    border: none;\n",
              "    border-radius: 50%;\n",
              "    cursor: pointer;\n",
              "    display: none;\n",
              "    fill: var(--fill-color);\n",
              "    height: 32px;\n",
              "    padding: 0;\n",
              "    width: 32px;\n",
              "  }\n",
              "\n",
              "  .colab-df-quickchart:hover {\n",
              "    background-color: var(--hover-bg-color);\n",
              "    box-shadow: 0 1px 2px rgba(60, 64, 67, 0.3), 0 1px 3px 1px rgba(60, 64, 67, 0.15);\n",
              "    fill: var(--button-hover-fill-color);\n",
              "  }\n",
              "\n",
              "  .colab-df-quickchart-complete:disabled,\n",
              "  .colab-df-quickchart-complete:disabled:hover {\n",
              "    background-color: var(--disabled-bg-color);\n",
              "    fill: var(--disabled-fill-color);\n",
              "    box-shadow: none;\n",
              "  }\n",
              "\n",
              "  .colab-df-spinner {\n",
              "    border: 2px solid var(--fill-color);\n",
              "    border-color: transparent;\n",
              "    border-bottom-color: var(--fill-color);\n",
              "    animation:\n",
              "      spin 1s steps(1) infinite;\n",
              "  }\n",
              "\n",
              "  @keyframes spin {\n",
              "    0% {\n",
              "      border-color: transparent;\n",
              "      border-bottom-color: var(--fill-color);\n",
              "      border-left-color: var(--fill-color);\n",
              "    }\n",
              "    20% {\n",
              "      border-color: transparent;\n",
              "      border-left-color: var(--fill-color);\n",
              "      border-top-color: var(--fill-color);\n",
              "    }\n",
              "    30% {\n",
              "      border-color: transparent;\n",
              "      border-left-color: var(--fill-color);\n",
              "      border-top-color: var(--fill-color);\n",
              "      border-right-color: var(--fill-color);\n",
              "    }\n",
              "    40% {\n",
              "      border-color: transparent;\n",
              "      border-right-color: var(--fill-color);\n",
              "      border-top-color: var(--fill-color);\n",
              "    }\n",
              "    60% {\n",
              "      border-color: transparent;\n",
              "      border-right-color: var(--fill-color);\n",
              "    }\n",
              "    80% {\n",
              "      border-color: transparent;\n",
              "      border-right-color: var(--fill-color);\n",
              "      border-bottom-color: var(--fill-color);\n",
              "    }\n",
              "    90% {\n",
              "      border-color: transparent;\n",
              "      border-bottom-color: var(--fill-color);\n",
              "    }\n",
              "  }\n",
              "</style>\n",
              "\n",
              "  <script>\n",
              "    async function quickchart(key) {\n",
              "      const quickchartButtonEl =\n",
              "        document.querySelector('#' + key + ' button');\n",
              "      quickchartButtonEl.disabled = true;  // To prevent multiple clicks.\n",
              "      quickchartButtonEl.classList.add('colab-df-spinner');\n",
              "      try {\n",
              "        const charts = await google.colab.kernel.invokeFunction(\n",
              "            'suggestCharts', [key], {});\n",
              "      } catch (error) {\n",
              "        console.error('Error during call to suggestCharts:', error);\n",
              "      }\n",
              "      quickchartButtonEl.classList.remove('colab-df-spinner');\n",
              "      quickchartButtonEl.classList.add('colab-df-quickchart-complete');\n",
              "    }\n",
              "    (() => {\n",
              "      let quickchartButtonEl =\n",
              "        document.querySelector('#df-ba9cd417-3a2b-49e7-a8ba-2698c94a2afa button');\n",
              "      quickchartButtonEl.style.display =\n",
              "        google.colab.kernel.accessAllowed ? 'block' : 'none';\n",
              "    })();\n",
              "  </script>\n",
              "</div>\n",
              "\n",
              "    </div>\n",
              "  </div>\n"
            ],
            "application/vnd.google.colaboratory.intrinsic+json": {
              "type": "dataframe",
              "variable_name": "df",
              "summary": "{\n  \"name\": \"df\",\n  \"rows\": 126,\n  \"fields\": [\n    {\n      \"column\": \"city_id\",\n      \"properties\": {\n        \"dtype\": \"category\",\n        \"num_unique_values\": 1,\n        \"samples\": [\n          \"Boston\"\n        ],\n        \"semantic_type\": \"\",\n        \"description\": \"\"\n      }\n    },\n    {\n      \"column\": \"period_start\",\n      \"properties\": {\n        \"dtype\": \"object\",\n        \"num_unique_values\": 126,\n        \"samples\": [\n          \"2/27/18 9:40\"\n        ],\n        \"semantic_type\": \"\",\n        \"description\": \"\"\n      }\n    },\n    {\n      \"column\": \"wait_time\",\n      \"properties\": {\n        \"dtype\": \"category\",\n        \"num_unique_values\": 2,\n        \"samples\": [\n          \"5 mins\"\n        ],\n        \"semantic_type\": \"\",\n        \"description\": \"\"\n      }\n    },\n    {\n      \"column\": \"treat\",\n      \"properties\": {\n        \"dtype\": \"boolean\",\n        \"num_unique_values\": 2,\n        \"samples\": [\n          true\n        ],\n        \"semantic_type\": \"\",\n        \"description\": \"\"\n      }\n    },\n    {\n      \"column\": \"commute\",\n      \"properties\": {\n        \"dtype\": \"boolean\",\n        \"num_unique_values\": 2,\n        \"samples\": [\n          false\n        ],\n        \"semantic_type\": \"\",\n        \"description\": \"\"\n      }\n    },\n    {\n      \"column\": \"trips_pool\",\n      \"properties\": {\n        \"dtype\": \"number\",\n        \"std\": 258,\n        \"min\": 778,\n        \"max\": 2235,\n        \"num_unique_values\": 114,\n        \"samples\": [\n          1168\n        ],\n        \"semantic_type\": \"\",\n        \"description\": \"\"\n      }\n    },\n    {\n      \"column\": \"trips_express_pool\",\n      \"properties\": {\n        \"dtype\": \"number\",\n        \"std\": 496,\n        \"min\": 1644,\n        \"max\": 4502,\n        \"num_unique_values\": 124,\n        \"samples\": [\n          3463\n        ],\n        \"semantic_type\": \"\",\n        \"description\": \"\"\n      }\n    },\n    {\n      \"column\": \"rider_cancellations\",\n      \"properties\": {\n        \"dtype\": \"number\",\n        \"std\": 52,\n        \"min\": 97,\n        \"max\": 356,\n        \"num_unique_values\": 82,\n        \"samples\": [\n          224\n        ],\n        \"semantic_type\": \"\",\n        \"description\": \"\"\n      }\n    },\n    {\n      \"column\": \"total_driver_payout_sr\",\n      \"properties\": {\n        \"dtype\": \"number\",\n        \"std\": 5451.377098602281,\n        \"min\": 18761.99299,\n        \"max\": 48598.42196,\n        \"num_unique_values\": 126,\n        \"samples\": [\n          22518.40805\n        ],\n        \"semantic_type\": \"\",\n        \"description\": \"\"\n      }\n    },\n    {\n      \"column\": \"total_matches_sr\",\n      \"properties\": {\n        \"dtype\": \"number\",\n        \"std\": 607,\n        \"min\": 1581,\n        \"max\": 5015,\n        \"num_unique_values\": 118,\n        \"samples\": [\n          2911\n        ],\n        \"semantic_type\": \"\",\n        \"description\": \"\"\n      }\n    },\n    {\n      \"column\": \"total_double_matches_sr\",\n      \"properties\": {\n        \"dtype\": \"number\",\n        \"std\": 350,\n        \"min\": 726,\n        \"max\": 2744,\n        \"num_unique_values\": 115,\n        \"samples\": [\n          1034\n        ],\n        \"semantic_type\": \"\",\n        \"description\": \"\"\n      }\n    },\n    {\n      \"column\": \"revenue\",\n      \"properties\": {\n        \"dtype\": \"number\",\n        \"std\": 7049.162329149074,\n        \"min\": 24997.93987,\n        \"max\": 58880.2692,\n        \"num_unique_values\": 126,\n        \"samples\": [\n          27262.2433\n        ],\n        \"semantic_type\": \"\",\n        \"description\": \"\"\n      }\n    },\n    {\n      \"column\": \"total_trips\",\n      \"properties\": {\n        \"dtype\": \"number\",\n        \"std\": 572,\n        \"min\": 3001,\n        \"max\": 6011,\n        \"num_unique_values\": 123,\n        \"samples\": [\n          5385\n        ],\n        \"semantic_type\": \"\",\n        \"description\": \"\"\n      }\n    },\n    {\n      \"column\": \"profit\",\n      \"properties\": {\n        \"dtype\": \"number\",\n        \"std\": 3253.532374866462,\n        \"min\": -2231.534609999999,\n        \"max\": 16719.621850000003,\n        \"num_unique_values\": 126,\n        \"samples\": [\n          4743.83525\n        ],\n        \"semantic_type\": \"\",\n        \"description\": \"\"\n      }\n    }\n  ]\n}"
            }
          },
          "metadata": {},
          "execution_count": 7
        }
      ]
    },
    {
      "cell_type": "markdown",
      "metadata": {
        "id": "ZbhBv_W4sQ6a"
      },
      "source": [
        "###  5. Plot the average number of trips as a function of the time of the day. Describe a reason why this pattern exists (no more than 2 sentences). (20 points)\n"
      ]
    },
    {
      "cell_type": "code",
      "execution_count": null,
      "metadata": {
        "id": "JSxfjPhfsQ6a",
        "colab": {
          "base_uri": "https://localhost:8080/",
          "height": 487
        },
        "outputId": "439f79c6-aa0a-4529-fbb6-0551e63ef1f9"
      },
      "outputs": [
        {
          "output_type": "display_data",
          "data": {
            "text/plain": [
              "<Figure size 800x500 with 1 Axes>"
            ],
            "image/png": "[encoded data removed]"
          },
          "metadata": {}
        }
      ],
      "source": [
        "import matplotlib.pyplot as plt\n",
        "\n",
        "df['period_start'] = pd.to_datetime(df['period_start'])\n",
        "df['hour'] = df['period_start'].dt.hour\n",
        "df['total_trips'] = df['trips_pool'] + df['trips_express_pool']\n",
        "\n",
        "avg_trips = df.groupby('hour')['total_trips'].mean()\n",
        "\n",
        "plt.figure(figsize=(8, 5))\n",
        "plt.plot(avg_trips.index, avg_trips.values, marker='o')\n",
        "plt.xlabel('Hour of Day')\n",
        "plt.ylabel('Average Number of Trips')\n",
        "plt.title('Average Number of Trips by Hour of Day')\n",
        "plt.xticks(range(0, 24))\n",
        "plt.grid(True)\n",
        "plt.show()"
      ]
    },
    {
      "cell_type": "markdown",
      "source": [
        "Due to commute time standards, demand typically peaks in the morning and late afternoon. It falls in the middle of the day and late at night, reflecting normal human activity."
      ],
      "metadata": {
        "id": "LqS3NISAj2yQ"
      }
    },
    {
      "cell_type": "markdown",
      "metadata": {
        "id": "JliThbRdsQ6a"
      },
      "source": [
        "###  6. Conduct a regression analysis of the experiment (considering the outcomes: revenue, total_driver_payout_sr, rider_cancellations, total_trips). Make sure to think carefully about the correct regression specification. The regression output should be easy to read, so use ‘stargazer’. What do you learn in words from this regression analysis (no more than 5 sentences but it can be less)?\n"
      ]
    },
    {
      "cell_type": "code",
      "source": [
        "!pip install stargazer\n",
        "\n",
        "import pandas as pd\n",
        "import statsmodels.formula.api as smf\n",
        "from stargazer.stargazer import Stargazer\n",
        "\n",
        "# Example: Ensure df is your DataFrame with the listed columns\n",
        "# df = pd.read_csv(\"path_to_your_data.csv\")\n",
        "\n",
        "# Convert period_start to datetime if not already\n",
        "df['period_start'] = pd.to_datetime(df['period_start'])\n",
        "df['hour'] = df['period_start'].dt.hour\n",
        "\n",
        "# 1. Regression for revenue\n",
        "model_revenue = smf.ols(\n",
        "    formula='revenue ~ treat + commute + C(city_id) + C(hour)',\n",
        "    data=df\n",
        ").fit()\n",
        "\n",
        "# 2. Regression for total driver payout\n",
        "model_driver = smf.ols(\n",
        "    formula='total_driver_payout_sr ~ treat + commute + C(city_id) + C(hour)',\n",
        "    data=df\n",
        ").fit()\n",
        "\n",
        "# 3. Regression for rider cancellations\n",
        "model_cancel = smf.ols(\n",
        "    formula='rider_cancellations ~ treat + commute + C(city_id) + C(hour)',\n",
        "    data=df\n",
        ").fit()\n",
        "\n",
        "# 4. Regression for total trips\n",
        "model_trips = smf.ols(\n",
        "    formula='total_trips ~ treat + commute + C(city_id) + C(hour)',\n",
        "    data=df\n",
        ").fit()\n",
        "\n",
        "# Create a Stargazer table\n",
        "stargazer = Stargazer([model_revenue, model_driver, model_cancel, model_trips])\n",
        "stargazer.title(\"Experiment Regression Results\")\n",
        "stargazer.custom_columns([\"Revenue\", \"Driver Payout\", \"Cancellations\", \"Total Trips\"], [1,1,1,1])\n",
        "stargazer.show_degrees_of_freedom(False)\n",
        "stargazer.covariate_order([\"Intercept\", \"treat\", \"commute\"])\n",
        "\n",
        "# Print or display the HTML table\n",
        "print(stargazer.render_html())"
      ],
      "metadata": {
        "colab": {
          "base_uri": "https://localhost:8080/",
          "height": 411
        },
        "id": "zQiuETodnbs1",
        "outputId": "f81e8802-a561-4414-8c8b-92dd98346dcf"
      },
      "execution_count": null,
      "outputs": [
        {
          "output_type": "stream",
          "name": "stdout",
          "text": [
            "Collecting stargazer\n",
            "  Downloading stargazer-0.0.7-py3-none-any.whl.metadata (6.3 kB)\n",
            "Downloading stargazer-0.0.7-py3-none-any.whl (15 kB)\n",
            "Installing collected packages: stargazer\n",
            "Successfully installed stargazer-0.0.7\n"
          ]
        },
        {
          "output_type": "error",
          "ename": "AssertionError",
          "evalue": "Covariate order must contain subset of existing covariates: {'commute', 'treat'} are not.",
          "traceback": [
            "\u001b[0;31m---------------------------------------------------------------------------\u001b[0m",
            "\u001b[0;31mAssertionError\u001b[0m                            Traceback (most recent call last)",
            "\u001b[0;32m<ipython-input-10-4a68b831e895>\u001b[0m in \u001b[0;36m<cell line: 0>\u001b[0;34m()\u001b[0m\n\u001b[1;32m     41\u001b[0m \u001b[0mstargazer\u001b[0m\u001b[0;34m.\u001b[0m\u001b[0mcustom_columns\u001b[0m\u001b[0;34m(\u001b[0m\u001b[0;34m[\u001b[0m\u001b[0;34m\"Revenue\"\u001b[0m\u001b[0;34m,\u001b[0m \u001b[0;34m\"Driver Payout\"\u001b[0m\u001b[0;34m,\u001b[0m \u001b[0;34m\"Cancellations\"\u001b[0m\u001b[0;34m,\u001b[0m \u001b[0;34m\"Total Trips\"\u001b[0m\u001b[0;34m]\u001b[0m\u001b[0;34m,\u001b[0m \u001b[0;34m[\u001b[0m\u001b[0;36m1\u001b[0m\u001b[0;34m,\u001b[0m\u001b[0;36m1\u001b[0m\u001b[0;34m,\u001b[0m\u001b[0;36m1\u001b[0m\u001b[0;34m,\u001b[0m\u001b[0;36m1\u001b[0m\u001b[0;34m]\u001b[0m\u001b[0;34m)\u001b[0m\u001b[0;34m\u001b[0m\u001b[0;34m\u001b[0m\u001b[0m\n\u001b[1;32m     42\u001b[0m \u001b[0mstargazer\u001b[0m\u001b[0;34m.\u001b[0m\u001b[0mshow_degrees_of_freedom\u001b[0m\u001b[0;34m(\u001b[0m\u001b[0;32mFalse\u001b[0m\u001b[0;34m)\u001b[0m\u001b[0;34m\u001b[0m\u001b[0;34m\u001b[0m\u001b[0m\n\u001b[0;32m---> 43\u001b[0;31m \u001b[0mstargazer\u001b[0m\u001b[0;34m.\u001b[0m\u001b[0mcovariate_order\u001b[0m\u001b[0;34m(\u001b[0m\u001b[0;34m[\u001b[0m\u001b[0;34m\"Intercept\"\u001b[0m\u001b[0;34m,\u001b[0m \u001b[0;34m\"treat\"\u001b[0m\u001b[0;34m,\u001b[0m \u001b[0;34m\"commute\"\u001b[0m\u001b[0;34m]\u001b[0m\u001b[0;34m)\u001b[0m\u001b[0;34m\u001b[0m\u001b[0;34m\u001b[0m\u001b[0m\n\u001b[0m\u001b[1;32m     44\u001b[0m \u001b[0;34m\u001b[0m\u001b[0m\n\u001b[1;32m     45\u001b[0m \u001b[0;31m# Print or display the HTML table\u001b[0m\u001b[0;34m\u001b[0m\u001b[0;34m\u001b[0m\u001b[0m\n",
            "\u001b[0;32m/usr/local/lib/python3.11/dist-packages/stargazer/stargazer.py\u001b[0m in \u001b[0;36mcovariate_order\u001b[0;34m(self, cov_names, restrict)\u001b[0m\n\u001b[1;32m    247\u001b[0m \u001b[0;34m\u001b[0m\u001b[0m\n\u001b[1;32m    248\u001b[0m         \u001b[0mmissing\u001b[0m \u001b[0;34m=\u001b[0m \u001b[0mset\u001b[0m\u001b[0;34m(\u001b[0m\u001b[0mcov_names\u001b[0m\u001b[0;34m)\u001b[0m\u001b[0;34m.\u001b[0m\u001b[0mdifference\u001b[0m\u001b[0;34m(\u001b[0m\u001b[0mset\u001b[0m\u001b[0;34m(\u001b[0m\u001b[0mself\u001b[0m\u001b[0;34m.\u001b[0m\u001b[0mcov_names\u001b[0m\u001b[0;34m)\u001b[0m\u001b[0;34m)\u001b[0m\u001b[0;34m\u001b[0m\u001b[0;34m\u001b[0m\u001b[0m\n\u001b[0;32m--> 249\u001b[0;31m         assert not missing, ('Covariate order must contain subset of existing '\n\u001b[0m\u001b[1;32m    250\u001b[0m                              'covariates: {} are not.'.format(missing))\n\u001b[1;32m    251\u001b[0m \u001b[0;34m\u001b[0m\u001b[0m\n",
            "\u001b[0;31mAssertionError\u001b[0m: Covariate order must contain subset of existing covariates: {'commute', 'treat'} are not."
          ]
        }
      ]
    },
    {
      "cell_type": "code",
      "source": [
        "print(model_revenue.params.index)"
      ],
      "metadata": {
        "id": "2-8F9Ngwn9Nw",
        "outputId": "2cb32584-af9d-45a4-aeda-2737e250d816",
        "colab": {
          "base_uri": "https://localhost:8080/"
        }
      },
      "execution_count": null,
      "outputs": [
        {
          "output_type": "stream",
          "name": "stdout",
          "text": [
            "Index(['Intercept', 'treat[T.True]', 'commute[T.True]', 'C(hour)[T.4]',\n",
            "       'C(hour)[T.7]', 'C(hour)[T.9]', 'C(hour)[T.12]', 'C(hour)[T.15]',\n",
            "       'C(hour)[T.17]', 'C(hour)[T.20]', 'C(hour)[T.23]'],\n",
            "      dtype='object')\n"
          ]
        }
      ]
    },
    {
      "cell_type": "markdown",
      "metadata": {
        "id": "E1aeHwxMsQ6b"
      },
      "source": []
    },
    {
      "cell_type": "markdown",
      "metadata": {
        "id": "h3RtzLLLsQ6b"
      },
      "source": [
        "###  7. One of your data scientists suggests that the optimal wait time may differ by whether it’s a commuting period. Test whether the effects of a 5 minute wait period on total trips and cancelations differ by whether it’s a commuting period (the column 'commute'). Which policy works better during commute times? (10 points)\n"
      ]
    },
    {
      "cell_type": "code",
      "execution_count": null,
      "metadata": {
        "id": "3TdNKc3PsQ6b"
      },
      "outputs": [],
      "source": []
    }
  ],
  "metadata": {
    "kernelspec": {
      "display_name": "Python 3",
      "language": "python",
      "name": "python3"
    },
    "language_info": {
      "name": "python",
      "version": "3.11.4"
    },
    "colab": {
      "provenance": [],
      "include_colab_link": true
    }
  },
  "nbformat": 4,
  "nbformat_minor": 0
}